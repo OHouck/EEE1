{
 "cells": [
  {
   "cell_type": "code",
   "execution_count": 2,
   "id": "1225b5ff",
   "metadata": {},
   "outputs": [],
   "source": [
    "from math import exp\n",
    "import numpy as np\n",
    "import scipy.integrate as integrate\n",
    "import matplotlib.pyplot as plt"
   ]
  },
  {
   "cell_type": "markdown",
   "id": "3f450edb",
   "metadata": {},
   "source": [
    "## (a) See the code below"
   ]
  },
  {
   "cell_type": "code",
   "execution_count": 3,
   "id": "9f534d87",
   "metadata": {},
   "outputs": [],
   "source": [
    "## (a) \n",
    "def y1(l, t):\n",
    "    lt = l * exp(0.05 * t)\n",
    "    return 1 / (lt ** 2)\n",
    "\n",
    "def y2(l, t):\n",
    "    lt = l * exp(0.05 * t)\n",
    "    return 50 - 10 * lt"
   ]
  },
  {
   "cell_type": "markdown",
   "id": "0a0c6211",
   "metadata": {},
   "source": [
    "## (b) See the code below"
   ]
  },
  {
   "cell_type": "code",
   "execution_count": 4,
   "id": "6a967a9d",
   "metadata": {},
   "outputs": [],
   "source": [
    "## (b)\n",
    "def cum1(l, k):\n",
    "    result, _ = integrate.quad(lambda t: y1(l, t), 0, k)\n",
    "    return result\n",
    "\n",
    "def cum2(l, k):\n",
    "    result, _ = integrate.quad(lambda t: y2(l, t), 0, k)\n",
    "    return result"
   ]
  },
  {
   "cell_type": "markdown",
   "id": "781dd2f2",
   "metadata": {},
   "source": [
    "## (c) See the code below"
   ]
  },
  {
   "cell_type": "code",
   "execution_count": null,
   "id": "e39c6cd3",
   "metadata": {},
   "outputs": [],
   "source": [
    "## (c)\n",
    "def cum_l1(l):\n",
    "    for k in range(1001):  # Loop from k = 0 to k = 1000\n",
    "        cumulative_value = cum1(l, k)\n",
    "        \n",
    "        # Check if cumulative_value has reached or exceeded 1000\n",
    "        if cumulative_value >= 1000:\n",
    "            return cumulative_value, k\n",
    "    \n",
    "    # If we reach k = 1000 without hitting the threshold, return the last value\n",
    "    return cumulative_value, 1000\n",
    "\n",
    "def cum_l2(l):\n",
    "    for k in range(1001):  # Loop from k = 0 to k = 1000\n",
    "        cumulative_value = cum2(l, k)\n",
    "        \n",
    "        # Check if cumulative_value has reached or exceeded 1000\n",
    "        if cumulative_value >= 1000:\n",
    "            return cumulative_value, k\n",
    "    \n",
    "    # If we reach k = 1000 without hitting the threshold, return the last value\n",
    "    return cumulative_value, 1000\n",
    "\n",
    "# get a rough idea of the value of l\n",
    "l_values = np.linspace(0.5, 0.01, 100)\n",
    "\n",
    "# find the value of l that gives the closest value to 1000\n",
    "closest_l1 = min(l_values, key=lambda l: abs(cum_l1(l)[0] - 1000))\n",
    "closest_l2 = min(l_values, key=lambda l: abs(cum_l2(l)[0] - 1000))\n",
    "\n",
    "print(f\"The value of l that gives the closest value to 1000 for cum_l1 is: {closest_l1}\")\n",
    "print(f\"The value of l that gives the closest value to 1000 for cum_l2 is: {closest_l2}\")\n",
    "\n",
    "# plot the time path of y1(closest_l1,t) and y2(closest_l2,t) for t in [0,100]\n",
    "t_values = np.linspace(0, 100, 500)\n",
    "y1_values = []\n",
    "y2_values = []\n",
    "\n",
    "for t in t_values:\n",
    "    y1_val = y1(closest_l1, t)\n",
    "    y2_val = y2(closest_l2, t)\n",
    "    \n",
    "    if y1_val < 0:\n",
    "        break\n",
    "    y1_values.append(y1_val)\n",
    "    \n",
    "    if y2_val < 0:\n",
    "        break\n",
    "    y2_values.append(y2_val)\n",
    "\n",
    "plt.figure(figsize=(10, 5))\n",
    "plt.plot(t_values[:len(y1_values)], y1_values, label=f'y1(l={closest_l1:.2f}, t)')\n",
    "plt.plot(t_values[:len(y2_values)], y2_values, label=f'y2(l={closest_l2:.2f}, t)')\n",
    "plt.xlabel('Time (t)')\n",
    "plt.ylabel('y(t)')\n",
    "plt.title('Time Path of y1 and y2')\n",
    "plt.legend()\n",
    "plt.grid(True)\n",
    "plt.show()"
   ]
  }
 ],
 "metadata": {
  "kernelspec": {
   "display_name": "kasou_env",
   "language": "python",
   "name": "python3"
  },
  "language_info": {
   "codemirror_mode": {
    "name": "ipython",
    "version": 3
   },
   "file_extension": ".py",
   "mimetype": "text/x-python",
   "name": "python",
   "nbconvert_exporter": "python",
   "pygments_lexer": "ipython3",
   "version": "3.11.7"
  }
 },
 "nbformat": 4,
 "nbformat_minor": 5
}
