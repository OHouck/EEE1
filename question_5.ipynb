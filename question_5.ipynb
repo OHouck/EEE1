{
 "cells": [
  {
   "cell_type": "code",
   "execution_count": 5,
   "id": "a7d0eac5",
   "metadata": {},
   "outputs": [],
   "source": [
    "\n",
    "import numpy as np\n",
    "from scipy.stats import norm\n",
    "import pandas as pd\n",
    "import matplotlib.pyplot as plt\n"
   ]
  },
  {
   "cell_type": "markdown",
   "id": "6a1999da",
   "metadata": {},
   "source": [
    "\n",
    "## (a) Generate and Compute Profit\n",
    "\n",
    "In this section, we generate a vector with values from 0 to 80 and calculate the profit for each value in the vector using the formula:\n",
    "\n",
    "$$profit = p \\times 100,000 - 3,000,000 $$\n",
    "    "
   ]
  },
  {
   "cell_type": "code",
   "execution_count": 6,
   "id": "c25de8fc",
   "metadata": {},
   "outputs": [
    {
     "name": "stdout",
     "output_type": "stream",
     "text": [
      "Length of p_values vector: 81\n",
      "[-3000000 -2900000 -2800000 -2700000 -2600000 -2500000 -2400000 -2300000\n",
      " -2200000 -2100000 -2000000 -1900000 -1800000 -1700000 -1600000 -1500000\n",
      " -1400000 -1300000 -1200000 -1100000 -1000000  -900000  -800000  -700000\n",
      "  -600000  -500000  -400000  -300000  -200000  -100000        0   100000\n",
      "   200000   300000   400000   500000   600000   700000   800000   900000\n",
      "  1000000  1100000  1200000  1300000  1400000  1500000  1600000  1700000\n",
      "  1800000  1900000  2000000  2100000  2200000  2300000  2400000  2500000\n",
      "  2600000  2700000  2800000  2900000  3000000  3100000  3200000  3300000\n",
      "  3400000  3500000  3600000  3700000  3800000  3900000  4000000  4100000\n",
      "  4200000  4300000  4400000  4500000  4600000  4700000  4800000  4900000\n",
      "  5000000]\n"
     ]
    }
   ],
   "source": [
    "\n",
    "# Generate a vector with values of p from 0 to 80 with a step size of 1\n",
    "p_values = np.arange(0, 81, 1)\n",
    "print(f\"Length of p_values vector: {len(p_values)}\")\n",
    "\n",
    "# Define a function that applies the formula to each value in the vector\n",
    "def compute_profit(p_vector):\n",
    "    return p_vector * 100000 - 3000000\n",
    "\n",
    "# Compute the result\n",
    "result = compute_profit(p_values)\n",
    "\n",
    "# Display the result\n",
    "print(result)\n",
    "    "
   ]
  },
  {
   "cell_type": "markdown",
   "id": "e4aca494",
   "metadata": {},
   "source": [
    "\n",
    "## (b) Constructing the Transition Matrix\n",
    "\n",
    "We set up a transition matrix $ T $ where each entry represents the probability of transitioning from state $p_t $ to $p_{t+1}$. The entries are based on a normal distribution with mean 0 and standard deviation 4.\n",
    "    "
   ]
  },
  {
   "cell_type": "code",
   "execution_count": 7,
   "id": "b4a1b75d",
   "metadata": {},
   "outputs": [
    {
     "name": "stdout",
     "output_type": "stream",
     "text": [
      "Transition Matrix (T):\n",
      "[[5.49738225e-01 9.64315418e-02 8.78447043e-02 ... 0.00000000e+00\n",
      "  0.00000000e+00 0.00000000e+00]\n",
      " [4.50261775e-01 9.94764497e-02 9.64315418e-02 ... 0.00000000e+00\n",
      "  0.00000000e+00 0.00000000e+00]\n",
      " [3.53830233e-01 9.64315418e-02 9.94764497e-02 ... 0.00000000e+00\n",
      "  0.00000000e+00 0.00000000e+00]\n",
      " ...\n",
      " [6.27307599e-84 7.75594078e-82 9.07800780e-80 ... 9.94764497e-02\n",
      "  9.64315418e-02 3.53830233e-01]\n",
      " [4.72885399e-86 6.22578745e-84 7.75594078e-82 ... 9.64315418e-02\n",
      "  9.94764497e-02 4.50261775e-01]\n",
      " [3.34932479e-88 4.69536075e-86 6.22578745e-84 ... 8.78447043e-02\n",
      "  9.64315418e-02 5.49738225e-01]]\n",
      "\n",
      "Row sums (should be 1):\n",
      "[1. 1. 1. 1. 1. 1. 1. 1. 1. 1. 1. 1. 1. 1. 1. 1. 1. 1. 1. 1. 1. 1. 1. 1.\n",
      " 1. 1. 1. 1. 1. 1. 1. 1. 1. 1. 1. 1. 1. 1. 1. 1. 1. 1. 1. 1. 1. 1. 1. 1.\n",
      " 1. 1. 1. 1. 1. 1. 1. 1. 1. 1. 1. 1. 1. 1. 1. 1. 1. 1. 1. 1. 1. 1. 1. 1.\n",
      " 1. 1. 1. 1. 1. 1. 1. 1. 1.]\n"
     ]
    }
   ],
   "source": [
    "\n",
    "# Parameters\n",
    "states = np.arange(81)  # State values from 0 to 80\n",
    "num_states = len(states)\n",
    "mean_u = 0              # Mean of the transition distribution\n",
    "sd_u = 4                # Standard deviation of the transition distribution\n",
    "\n",
    "# Transition matrix initialization\n",
    "T = np.zeros((num_states, num_states))\n",
    "\n",
    "# Calculate cutoffs for each transition\n",
    "cutoffs = np.arange(-0.5, num_states, 1)\n",
    "\n",
    "# Populate the transition matrix\n",
    "for i in range(num_states):  # Iterate over each row (current state p_t)\n",
    "    for j in range(num_states):  # Iterate over each column (next state p_t+1)\n",
    "        if j == 0:\n",
    "            # For the first state, consider lower bound as -infinity\n",
    "            lower_bound = -np.inf\n",
    "        else:\n",
    "            lower_bound = cutoffs[j]\n",
    "        \n",
    "        if j == num_states - 1:\n",
    "            # For the last state, consider upper bound as infinity\n",
    "            upper_bound = np.inf\n",
    "        else:\n",
    "            upper_bound = cutoffs[j + 1]\n",
    "\n",
    "        # Calculate the probability of transitioning from state i to state j\n",
    "        probability = norm.cdf(upper_bound, loc=states[i], scale=sd_u) - norm.cdf(lower_bound, loc=states[i], scale=sd_u)\n",
    "        T[i, j] = probability\n",
    "\n",
    "# Verify rows sum to 1 (as each row represents a probability distribution)\n",
    "row_sums = T.sum(axis=1)\n",
    "\n",
    "print(\"Transition Matrix (T):\")\n",
    "print(T)\n",
    "print(\"\\nRow sums (should be 1):\")\n",
    "print(row_sums)\n",
    "    "
   ]
  },
  {
   "cell_type": "markdown",
   "id": "610ea6a8",
   "metadata": {},
   "source": [
    "\n",
    "## (c) Fixed-Point Iteration for Value Function\n",
    "\n",
    "Using a discount factor and a utility function, we apply fixed-point iteration to solve for the value function $V(p_t)$ for each state. The decision variable (0 or 1) represents whether it's optimal to continue or stop.\n",
    "    "
   ]
  },
  {
   "cell_type": "code",
   "execution_count": 8,
   "id": "7ea353c2",
   "metadata": {},
   "outputs": [
    {
     "name": "stdout",
     "output_type": "stream",
     "text": [
      "The trigger price is: 41\n"
     ]
    }
   ],
   "source": [
    "\n",
    "# Parameters\n",
    "num_states = 81  # States from 0 to 80\n",
    "std_dev = 4  # Standard deviation of the increment u\n",
    "discount_factor = 1 / 1.05  # Discount factor\n",
    "states = np.arange(num_states)\n",
    "utility = states * 100000 - 3000000  # Utility term (p_t * 100000 - 3000000) for each state p_t\n",
    "\n",
    "# Fixed-point iteration parameters\n",
    "tolerance = 1e-6\n",
    "max_iterations = 1000\n",
    "\n",
    "# Initialize value function (starting with zero for all states)\n",
    "V = np.zeros(num_states)\n",
    "decision = np.zeros(num_states, dtype=int)  # To store the decision for each state (0 or 1)\n",
    "\n",
    "# Fixed-point iteration to solve for V(p_t)\n",
    "for iteration in range(max_iterations):\n",
    "    # Create a copy of the current value function to check convergence later\n",
    "    V_old = V.copy()\n",
    "    \n",
    "    # Calculate the option value for each state\n",
    "    option_value = discount_factor * np.dot(T, V_old)\n",
    "    \n",
    "    # Determine V and decision based on max between utility and option value\n",
    "    V = np.maximum(utility, option_value)\n",
    "    decision = (V == utility).astype(int)  # 1 if choosing utility, 0 if choosing option value\n",
    "    \n",
    "    # Check for convergence\n",
    "    if np.max(np.abs(V - V_old)) < tolerance:\n",
    "        break\n",
    "\n",
    "# Convert the resulting V and decision to a DataFrame for display\n",
    "df_results = pd.DataFrame({'Value Function V(p_t)': V, 'Decision (0=option, 1=utility)': decision})\n",
    "\n",
    "# Find the row number where the decision is 1\n",
    "trigger_price_row = df_results[df_results['Decision (0=option, 1=utility)'] == 1].index[0]\n",
    "print(f\"The trigger price is: {trigger_price_row}\")\n",
    "    "
   ]
  },
  {
   "cell_type": "markdown",
   "id": "162cae3f",
   "metadata": {},
   "source": [
    "\n",
    "## (d) Plotting the Value Function\n",
    "\n",
    "We now visualize the computed value function $V(p_t)$ for each state. The plot helps in understanding the value associated with each state in relation to the price.\n",
    "    "
   ]
  },
  {
   "cell_type": "code",
   "execution_count": 11,
   "id": "44e3eef5",
   "metadata": {},
   "outputs": [
    {
     "data": {
      "image/png": "[encoded data removed]",
      "text/plain": [
       "<Figure size 1000x600 with 1 Axes>"
      ]
     },
     "metadata": {},
     "output_type": "display_data"
    }
   ],
   "source": [
    "# Plot the Value Function\n",
    "plt.figure(figsize=(10, 6))\n",
    "plt.plot(df_results.index, df_results['Value Function V(p_t)'], marker='o', linestyle='-')\n",
    "plt.axvline(x=41, color='r', linestyle='--', label='Trigger Price')\n",
    "plt.xlabel('Price')\n",
    "plt.ylabel('Value Function V(p_t)')\n",
    "plt.title('Value Function vs Price')\n",
    "plt.legend()\n",
    "plt.grid(True)\n",
    "plt.show()\n",
    "    "
   ]
  },
  {
   "cell_type": "markdown",
   "id": "2f23d3ba",
   "metadata": {},
   "source": [
    "Intuitively, the values before 41 represent option values, which are the discounted future utilities when the price exceeds 41, using the discount factor. Thus, the shape is non-linear. After 41, the values are linear in price because they reflect the current utility, and the current utility (i.e., profit) is linear in price."
   ]
  }
 ],
 "metadata": {
  "kernelspec": {
   "display_name": "kasou_env",
   "language": "python",
   "name": "python3"
  },
  "language_info": {
   "codemirror_mode": {
    "name": "ipython",
    "version": 3
   },
   "file_extension": ".py",
   "mimetype": "text/x-python",
   "name": "python",
   "nbconvert_exporter": "python",
   "pygments_lexer": "ipython3",
   "version": "3.11.7"
  }
 },
 "nbformat": 4,
 "nbformat_minor": 5
}
